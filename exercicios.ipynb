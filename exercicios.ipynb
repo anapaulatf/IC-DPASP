{
 "cells": [
  {
   "cell_type": "markdown",
   "metadata": {},
   "source": [
    "# Exemplos utilizando o dPASP\n",
    "\n",
    "O [dPASP](https://github.com/kamel-usp/dpasp) é uma linguagem declarativa que permite descrever tarefas de raciocínio probabilístico. Um programa dPASP costumeiramente possui um conjunto de escolhas probabilísticas e regras lógicas. \n",
    "Com o intuito de ganhar certa fluência no sistema , este Jupyter Notebook contém uma miscelânia de exercícios de probabilidade resolvidos em dPASP.\n",
    "O trabalho desenvolvido aqui faz parte da Iniciação Científica da aluna Ana Paula Tavares da Fonseca orientada pelo Professor Denis Deratani Mauá."
   ]
  },
  {
   "cell_type": "code",
   "execution_count": 1,
   "metadata": {},
   "outputs": [],
   "source": [
    "%load_ext mpasp"
   ]
  },
  {
   "cell_type": "markdown",
   "metadata": {},
   "source": [
    "> [(Morgado, 1991)](#ref) Três moedas são jogadas simultaneamente. Qual é a probabilidade de obter 2 caras? Qual é a probabilidade de obter pelo menos 2 caras?\n",
    "\n",
    "Para exatamente duas caras:"
   ]
  },
  {
   "cell_type": "code",
   "execution_count": 2,
   "metadata": {},
   "outputs": [
    {
     "name": "stdout",
     "output_type": "stream",
     "text": [
      "\n",
      "ℙ(duascaras) = 0.375000\n",
      "---\n"
     ]
    },
    {
     "name": "stderr",
     "output_type": "stream",
     "text": [
      "Querying:                                                               0h00m00s\n"
     ]
    },
    {
     "data": {
      "text/plain": [
       "array([[0.375]])"
      ]
     },
     "execution_count": 2,
     "metadata": {},
     "output_type": "execute_result"
    }
   ],
   "source": [
    "%%pasp\n",
    "% exatamente duas caras\n",
    "0.5::cara1.\n",
    "0.5::cara2.\n",
    "0.5::cara3.\n",
    "\n",
    "duascaras :- cara1, cara2, not cara3.\n",
    "duascaras :- cara2, cara3, not cara1.\n",
    "duascaras :- cara1, cara3, not cara2.\n",
    "\n",
    "#semantics maxent.\n",
    "#query duascaras."
   ]
  },
  {
   "cell_type": "markdown",
   "metadata": {},
   "source": [
    "Para ao menos duas caras: "
   ]
  },
  {
   "cell_type": "code",
   "execution_count": 3,
   "metadata": {},
   "outputs": [
    {
     "name": "stderr",
     "output_type": "stream",
     "text": [
      "Querying:                                                               0h00m00s\n"
     ]
    },
    {
     "name": "stdout",
     "output_type": "stream",
     "text": [
      "\n",
      "ℙ(min2caras) = 0.500000\n",
      "---\n"
     ]
    },
    {
     "data": {
      "text/plain": [
       "array([[0.5]])"
      ]
     },
     "execution_count": 3,
     "metadata": {},
     "output_type": "execute_result"
    }
   ],
   "source": [
    "%%pasp\n",
    "% no mínimo duas caras\n",
    "0.5::cara1. 0.5::cara2. 0.5::cara3.\n",
    "\n",
    "min2caras :- cara1, cara2, not cara3.\n",
    "min2caras :- cara2, cara3, not cara1.\n",
    "min2caras :- cara1, cara3, not cara2.\n",
    "min2caras :- cara1, cara2, cara3.\n",
    "\n",
    "#semantics maxent.\n",
    "#query min2caras."
   ]
  },
  {
   "cell_type": "markdown",
   "metadata": {},
   "source": [
    "> [(Morgado, 1991)](#ref) Dois dados são jogados simultaneamente. Calcular a probabilidade de que a soma dos números mostrados nas faces de cima seja 7"
   ]
  },
  {
   "cell_type": "code",
   "execution_count": 4,
   "metadata": {},
   "outputs": [
    {
     "name": "stderr",
     "output_type": "stream",
     "text": [
      "Querying:                                                               0h00m00s\n"
     ]
    },
    {
     "name": "stdout",
     "output_type": "stream",
     "text": [
      "\n",
      "ℙ(soma(7)) = 0.166667\n",
      "---\n"
     ]
    },
    {
     "data": {
      "text/plain": [
       "array([[0.16666667]])"
      ]
     },
     "execution_count": 4,
     "metadata": {},
     "output_type": "execute_result"
    }
   ],
   "source": [
    "%%pasp\n",
    "\n",
    "% 2 dados de 6 lados\n",
    "1/6::d1(1); 1/6::d1(2); 1/6::d1(3); 1/6::d1(4); 1/6::d1(5); 1/6::d1(6).\n",
    "1/6::d2(1); 1/6::d2(2); 1/6::d2(3); 1/6::d2(4); 1/6::d2(5); 1/6::d2(6).\n",
    "\n",
    "soma(S) :- d1(A), d2(B), S = A + B. \n",
    "\n",
    "#semantics maxent.\n",
    "#query soma(7)."
   ]
  },
  {
   "cell_type": "markdown",
   "metadata": {},
   "source": [
    "> [(Morgado, 1991)](#ref) Dois dados são jogados simultaneamente. Calcular a probabilidade de que o máximo seja maior ou igual a 3."
   ]
  },
  {
   "cell_type": "code",
   "execution_count": 5,
   "metadata": {},
   "outputs": [
    {
     "name": "stdout",
     "output_type": "stream",
     "text": [
      "\n",
      "ℙ(not maximo(3)) = 0.888889\n",
      "---\n"
     ]
    },
    {
     "name": "stderr",
     "output_type": "stream",
     "text": [
      "Querying:                                                               0h00m00s\n"
     ]
    },
    {
     "data": {
      "text/plain": [
       "array([[0.88888889]])"
      ]
     },
     "execution_count": 5,
     "metadata": {},
     "output_type": "execute_result"
    }
   ],
   "source": [
    "%%pasp\n",
    "\n",
    "% 2 dados honestos\n",
    "1/6::d1(1); 1/6::d1(2); 1/6::d1(3); 1/6::d1(4); 1/6::d1(5); 1/6::d1(6).\n",
    "1/6::d2(1); 1/6::d2(2); 1/6::d2(3); 1/6::d2(4); 1/6::d2(5); 1/6::d2(6).\n",
    "\n",
    "maximo(X) :- d1(A), d2(B), X = A > B. \n",
    "maximo(X) :- d1(A), d2(B), X = B > A. \n",
    "\n",
    "#semantics maxent.\n",
    "% Queremos os casos em que seja maior ou igual a 3\n",
    "#query not maximo(3)."
   ]
  },
  {
   "cell_type": "markdown",
   "metadata": {},
   "source": [
    "> [(Morgado, 1991)](#ref) Suponhamos que de n objetos escolhemos r ao acaso com reposição. Qual é a probabilidade de que nenhum objeto seja escolhido mais de uma vez?\n",
    "\n",
    "Vamos supor que temos 5 objetos e escolhemos 2 com reposição."
   ]
  },
  {
   "cell_type": "code",
   "execution_count": 6,
   "metadata": {},
   "outputs": [
    {
     "name": "stderr",
     "output_type": "stream",
     "text": [
      "Querying:                                                               0h00m00s\n"
     ]
    },
    {
     "name": "stdout",
     "output_type": "stream",
     "text": [
      "\n",
      "ℙ(escolha) = 0.800000\n",
      "---\n"
     ]
    },
    {
     "data": {
      "text/plain": [
       "array([[0.8]])"
      ]
     },
     "execution_count": 6,
     "metadata": {},
     "output_type": "execute_result"
    }
   ],
   "source": [
    "%%pasp \n",
    "\n",
    "% 5 objetos diferentes\n",
    "0.2::obj1(1); 0.2::obj1(2); 0.2::obj1(3); 0.2::obj1(4); 0.2::obj1(5).\n",
    "0.2::obj2(1); 0.2::obj2(2); 0.2::obj2(3); 0.2::obj2(4); 0.2::obj2(5).\n",
    "\n",
    "escolha :- obj1(A), obj2(B), A!=B.\n",
    "\n",
    "#semantics maxent.\n",
    "#query escolha."
   ]
  },
  {
   "cell_type": "markdown",
   "metadata": {},
   "source": [
    "> **Paradoxo do aniversário**: Em uma sala com <em>n</em> pessoas, qual a probabilidade de que ao menos duas pessoas façam aniversário no mesmo dia?\n",
    "\n",
    "De modo simplificado, para reduzir o número de possibilidades: Suponha um mês com 10 dias e um ano com 2 meses. Qual a probabilidade de duas pessoas fazerem aniversário no mesmo dia?"
   ]
  },
  {
   "cell_type": "code",
   "execution_count": 7,
   "metadata": {},
   "outputs": [
    {
     "name": "stdout",
     "output_type": "stream",
     "text": [
      "\n",
      "ℙ(coincide) = 0.050000\n",
      "---\n"
     ]
    },
    {
     "name": "stderr",
     "output_type": "stream",
     "text": [
      "Querying:                                                               0h00m00s\n"
     ]
    },
    {
     "data": {
      "text/plain": [
       "array([[0.05]])"
      ]
     },
     "execution_count": 7,
     "metadata": {},
     "output_type": "execute_result"
    }
   ],
   "source": [
    "%%pasp \n",
    "\n",
    "% distribuição de dias para a pessoa 1\n",
    "1/10::dia1(1); 1/10::dia1(2); 1/10::dia1(3); 1/10::dia1(4); 1/10::dia1(5); 1/10::dia1(6); 1/10::dia1(7); 1/10::dia1(8); 1/10::dia1(9); 1/10::dia1(10).\n",
    "1/2::mes1(1); 1/2::mes1(2).\n",
    "\n",
    "% distribuição de dias para a pessoa 2\n",
    "1/10::dia2(1); 1/10::dia2(2); 1/10::dia2(3); 1/10::dia2(4); 1/10::dia2(5); 1/10::dia2(6); 1/10::dia2(7); 1/10::dia2(8); 1/10::dia2(9); 1/10::dia2(10).\n",
    "1/2::mes2(1); 1/2::mes2(2).\n",
    "\n",
    "pessoa1(A,B) :- dia1(A), mes1(B).\n",
    "pessoa2(C,D) :- dia2(C), mes2(D).\n",
    "\n",
    "coincide :- pessoa1(X,Y), pessoa2(X,Y).\n",
    "\n",
    "#semantics maxent.\n",
    "#query(coincide)."
   ]
  },
  {
   "cell_type": "markdown",
   "metadata": {},
   "source": [
    "Para o caso de haver meses com 30 dias e anos com 12 meses e com três pessoas:\n",
    "\n",
    "\n",
    "```py\n",
    "1/30::dia1(1); 1/30::dia1(2); 1/30::dia1(3); 1/30::dia1(4); 1/30::dia1(5); 1/30::dia1(6); 1/30::dia1(7); 1/30::dia1(8); 1/30::dia1(9); 1/30::dia1(10);\n",
    "1/30::dia1(11); 1/30::dia1(12); 1/30::dia1(13); 1/30::dia1(14); 1/30::dia1(15); 1/30::dia1(16); 1/30::dia1(17); 1/30::dia1(18); 1/30::dia1(19); 1/30::dia1(20);\n",
    "1/30::dia1(21); 1/30::dia1(22); 1/30::dia1(23); 1/30::dia1(24); 1/30::dia1(25); 1/30::dia1(26); 1/30::dia1(27); 1/30::dia1(28); 1/30::dia1(29); 1/30::dia1(30).\n",
    "\n",
    "1/12::mes1(1); 1/12::mes1(2); 1/12::mes1(3); 1/12::mes1(4); 1/12::mes1(5); 1/12::mes1(6); 1/12::mes1(7); 1/12::mes1(8); 1/12::mes1(9); 1/12::mes1(10); 1/12::mes1(11); 1/12::mes1(12).\n",
    "\n",
    "1/30::dia2(1); 1/30::dia2(2); 1/30::dia2(3); 1/30::dia2(4); 1/30::dia2(5); 1/30::dia2(6); 1/30::dia2(7); 1/30::dia2(8); 1/30::dia2(9); 1/30::dia2(10);\n",
    "1/30::dia2(11); 1/30::dia2(12); 1/30::dia2(13); 1/30::dia2(14); 1/30::dia2(15); 1/30::dia2(16); 1/30::dia2(17); 1/30::dia2(18); 1/30::dia2(19); 1/30::dia2(20);\n",
    "1/30::dia2(21); 1/30::dia2(22); 1/30::dia2(23); 1/30::dia2(24); 1/30::dia2(25); 1/30::dia2(26); 1/30::dia2(27); 1/30::dia2(28); 1/30::dia2(29); 1/30::dia2(30).\n",
    "\n",
    "1/12::mes2(1); 1/12::mes2(2); 1/12::mes2(3); 1/12::mes2(4); 1/12::mes2(5); 1/12::mes2(6); 1/12::mes2(7); 1/12::mes2(8); 1/12::mes2(9); 1/12::mes2(10); 1/12::mes2(11); 1/12::mes2(12).\n",
    "\n",
    "1/30::dia3(1); 1/30::dia3(2); 1/30::dia3(3); 1/30::dia3(4); 1/30::dia3(5); 1/30::dia3(6); 1/30::dia3(7); 1/30::dia3(8); 1/30::dia3(9); 1/30::dia3(10);\n",
    "1/30::dia3(11); 1/30::dia3(12); 1/30::dia3(13); 1/30::dia3(14); 1/30::dia3(15); 1/30::dia3(16); 1/30::dia3(17); 1/30::dia3(18); 1/30::dia3(19); 1/30::dia3(20);\n",
    "1/30::dia3(21); 1/30::dia3(22); 1/30::dia3(23); 1/30::dia3(24); 1/30::dia3(25); 1/30::dia3(26); 1/30::dia3(27); 1/30::dia3(28); 1/30::dia3(29); 1/30::dia3(30).\n",
    "\n",
    "1/12::mes3(1); 1/12::mes3(2); 1/12::mes3(3); 1/12::mes3(4); 1/12::mes3(5); 1/12::mes3(6); 1/12::mes3(7); 1/12::mes3(8); 1/12::mes3(9); 1/12::mes3(10); 1/12::mes3(11); 1/12::mes3(12).\n",
    "\n",
    "\n",
    "pessoa1(A,B) :- dia1(A), mes1(B).\n",
    "pessoa2(C,D) :- dia2(C), mes2(D).\n",
    "pessoa3(E,F) :- dia3(E), mes3(F).\n",
    "\n",
    "\n",
    "coincide :- pessoa1(X,Y), pessoa2(X,Y).\n",
    "coincide :- pessoa1(X,Y), pessoa3(X,Y).\n",
    "coincide :- pessoa2(X,Y), pessoa3(X,Y).\n",
    "\n",
    "#semantics maxent.\n",
    "#query(coincide).\n",
    "```\n",
    "------------------------------------------\n",
    "```py\n",
    "ℙ(coincide) = 0.0082042\n",
    "```"
   ]
  },
  {
   "cell_type": "markdown",
   "metadata": {},
   "source": [
    "Neste caso, não foi possível rodar dentro do Jupyter Notebook. O arquivo foi rodado a parte diretamente em dPASP."
   ]
  },
  {
   "cell_type": "markdown",
   "metadata": {},
   "source": [
    "> [(Morgado, 1991)](#ref) Dez alunos podem decidir fazer parte de uma comissão. Qual a probabilidade de que seja feita uma comissão com 2 alunos?"
   ]
  },
  {
   "cell_type": "code",
   "execution_count": 8,
   "metadata": {},
   "outputs": [
    {
     "name": "stderr",
     "output_type": "stream",
     "text": [
      "Querying: -"
     ]
    },
    {
     "name": "stdout",
     "output_type": "stream",
     "text": [
      "\n",
      "ℙ(comissao(2)) = 0.043945\n",
      "---\n"
     ]
    },
    {
     "name": "stderr",
     "output_type": "stream",
     "text": [
      "Querying:                                                               0h00m00s\n"
     ]
    },
    {
     "data": {
      "text/plain": [
       "array([[0.04394531]])"
      ]
     },
     "execution_count": 8,
     "metadata": {},
     "output_type": "execute_result"
    }
   ],
   "source": [
    "%%pasp \n",
    "\n",
    "% os alunos podem participar ou não\n",
    "1/2::a(1). 1/2::a(2). 1/2::a(3). 1/2::a(4). 1/2::a(5). 1/2::a(6). 1/2::a(7). 1/2::a(8). 1/2::a(9). 1/2::a(10).  \n",
    "\n",
    "comissao(2) :- #count{X:a(X)} = 2. \n",
    "\n",
    "#semantics maxent.\n",
    "#query comissao(2)."
   ]
  },
  {
   "cell_type": "markdown",
   "metadata": {},
   "source": [
    "> [(Morgado, 1991)](#ref) Um grupo de pessoas está classificado da seguinte forma:\n",
    "\n",
    "|sexo|fala inglês|fala alemão|fala francês|\n",
    "|--|--|--|--|\n",
    "|homens|92|35|47|\n",
    "|mulheres|101|33|52|\n",
    "\n",
    "Escolhe-se uma pessoa ao acaso. Sabendo que essa pessoa é homem, qual é a probabilidade de que fale francês? Sabendo que fala inglês, qual a probabilidade de ser mulher? Qual a probabilidade de falar alemão? "
   ]
  },
  {
   "cell_type": "code",
   "execution_count": 9,
   "metadata": {},
   "outputs": [
    {
     "name": "stderr",
     "output_type": "stream",
     "text": [
      "Querying:                                                               0h00m00s\n"
     ]
    },
    {
     "name": "stdout",
     "output_type": "stream",
     "text": [
      "\n",
      "ℙ(fala(f) | pessoa(homem)) = 0.270115\n",
      "ℙ(pessoa(mulher) | fala(i)) = 0.523316\n",
      "ℙ(fala(a)) = 0.188889\n",
      "---\n"
     ]
    },
    {
     "data": {
      "text/plain": [
       "array([[0.27011494],\n",
       "       [0.52331606],\n",
       "       [0.18888889]])"
      ]
     },
     "execution_count": 9,
     "metadata": {},
     "output_type": "execute_result"
    }
   ],
   "source": [
    "%%pasp\n",
    "\n",
    "92/360::lingua(i,homem); 35/360::lingua(a,homem); 47/360::lingua(f,homem); 101/360::lingua(i, mulher); 33/360::lingua(a, mulher); 52/360::lingua(f, mulher).\n",
    "\n",
    "fala(Y) :- lingua(Y,X).\n",
    "pessoa(X) :- lingua(Y,X).\n",
    "\n",
    "#semantics maxent.\n",
    "#query(fala(f)|pessoa(homem)).\n",
    "#query(pessoa(mulher)|fala(i)).\n",
    "#query(fala(a))."
   ]
  },
  {
   "cell_type": "markdown",
   "metadata": {},
   "source": [
    "> Simular uma moeda honesta com 2 moedas enviesadas."
   ]
  },
  {
   "cell_type": "code",
   "execution_count": 10,
   "metadata": {},
   "outputs": [
    {
     "name": "stderr",
     "output_type": "stream",
     "text": [
      "Querying:                                                               0h00m00s\n"
     ]
    },
    {
     "name": "stdout",
     "output_type": "stream",
     "text": [
      "\n",
      "ℙ(cara1 | diferente) = 0.500000\n",
      "ℙ(coroa1 | diferente) = 0.500000\n",
      "---\n"
     ]
    },
    {
     "data": {
      "text/plain": [
       "array([[0.5],\n",
       "       [0.5]])"
      ]
     },
     "execution_count": 10,
     "metadata": {},
     "output_type": "execute_result"
    }
   ],
   "source": [
    "%%pasp\n",
    "\n",
    "% Fatos probabilísticos\n",
    "0.7::cara1; 0.3::coroa1.\n",
    "0.7::cara2; 0.3::coroa2.\n",
    " \n",
    "diferente :- cara1, coroa2.\n",
    "diferente :- cara2, coroa1.\n",
    "\n",
    "#semantics maxent.\n",
    "\n",
    "#query(cara1|diferente).\n",
    "#query(coroa1|diferente)"
   ]
  },
  {
   "cell_type": "markdown",
   "metadata": {},
   "source": [
    "> Simular um dado de 6 lados equilibrado com 2 moedas."
   ]
  },
  {
   "cell_type": "code",
   "execution_count": 11,
   "metadata": {},
   "outputs": [
    {
     "name": "stderr",
     "output_type": "stream",
     "text": [
      "Querying:                                                               0h00m00s\n"
     ]
    },
    {
     "name": "stdout",
     "output_type": "stream",
     "text": [
      "\n",
      "ℙ(igual) = 0.250000\n",
      "ℙ(diferente) = 0.750000\n",
      "ℙ(lado1 | diferente) = 0.166667\n",
      "ℙ(lado2 | diferente) = 0.166667\n",
      "ℙ(lado6 | diferente) = 0.166667\n",
      "---\n"
     ]
    },
    {
     "data": {
      "text/plain": [
       "array([[0.25      ],\n",
       "       [0.75      ],\n",
       "       [0.16666667],\n",
       "       [0.16666667],\n",
       "       [0.16666667]])"
      ]
     },
     "execution_count": 11,
     "metadata": {},
     "output_type": "execute_result"
    }
   ],
   "source": [
    "%%pasp\n",
    "\n",
    "% Fatos probabilísticos\n",
    "0.5::cara1; 0.5::coroa1. %primeiro lançamento\n",
    "0.5::cara2; 0.5::coroa2. %segundo lançamento\n",
    "0.5::cara3; 0.5::coroa3. %terceiro lançamento\n",
    "\n",
    "igual :- cara1, cara2, cara3.\n",
    "igual :- coroa1, coroa2, coroa3.\n",
    "\n",
    "diferente :- not igual.\n",
    "\n",
    "lado1:- coroa1, cara2, cara3.\n",
    "lado2:- cara1, coroa2, cara3.\n",
    "lado3:- cara1, cara3, coroa3.\n",
    "lado4:- coroa1, coroa2, cara3.\n",
    "lado5:- coroa1, cara2, coroa3.\n",
    "lado6:- cara1, coroa2, coroa3.\n",
    "\n",
    "#semantics maxent.\n",
    "\n",
    "#query(igual).\n",
    "#query(diferente).\n",
    "#query(lado1|diferente).\n",
    "#query(lado2|diferente).\n",
    "#query(lado6|diferente)."
   ]
  },
  {
   "cell_type": "markdown",
   "metadata": {},
   "source": [
    "> [(Morgado, 1991)](#ref) Consideremos dois dados: Um deles equilibrado e outro viciado com P(1) = 0.5 e P(2), ..., P(6) = 0.1. Escolhe-se um dos dados ao acaso e se efetuam dois lançamentos, obtendo-se dois uns. Qual a probabilidade de que o dado escolhido tenha sido o viciado?"
   ]
  },
  {
   "cell_type": "code",
   "execution_count": 12,
   "metadata": {},
   "outputs": [
    {
     "name": "stderr",
     "output_type": "stream",
     "text": [
      "Querying: \\"
     ]
    },
    {
     "name": "stdout",
     "output_type": "stream",
     "text": [
      "\n",
      "ℙ(dado(viciado) | doisuns) = 0.900000\n",
      "---\n"
     ]
    },
    {
     "name": "stderr",
     "output_type": "stream",
     "text": [
      "Querying:                                                               0h00m00s\n"
     ]
    },
    {
     "data": {
      "text/plain": [
       "array([[0.9]])"
      ]
     },
     "execution_count": 12,
     "metadata": {},
     "output_type": "execute_result"
    }
   ],
   "source": [
    "%%pasp\n",
    "\n",
    "1/6::dn1(1); 1/6::dn1(2); 1/6::dn1(3); 1/6::dn1(4); 1/6::dn1(5); 1/6::dn1(6). %dado normal\n",
    "1/6::dn2(1); 1/6::dn2(2); 1/6::dn2(3); 1/6::dn2(4); 1/6::dn2(5); 1/6::dn2(6). %dado normal\n",
    "\n",
    "1/2::dv1(1); 1/10::dv1(2); 1/10::dv1(3); 1/10::dv1(4); 1/10::dv1(5); 1/10::dv1(6). %dado viciado\n",
    "1/2::dv2(1); 1/10::dv2(2); 1/10::dv2(3); 1/10::dv2(4); 1/10::dv2(5); 1/10::dv2(6). %dado viciado\n",
    "\n",
    "1/2::dado(normal); 1/2::dado(viciado).\n",
    "\n",
    "doisuns :- dado(normal), dn1(1), dn2(1).\n",
    "doisuns :- dado(viciado), dv1(1), dv2(1).\n",
    "\n",
    "#semantics maxent.\n",
    "#query(dado(viciado)|doisuns)."
   ]
  },
  {
   "cell_type": "markdown",
   "metadata": {},
   "source": [
    "> [(Morgado, 1991)](#ref) Marina quer enviar uma carta à Verônica. A probabilidade de que Marina escreva a carta é de 8/10. A probabilidade de que o correio não a perca é de 9/10. A probabilidade de que o carteiro a entregue é de 9/10. Dado que Verônica não recebeu a carta, qual é a probabilidade condicional de que Marina não a tenha escrito?"
   ]
  },
  {
   "cell_type": "code",
   "execution_count": 13,
   "metadata": {},
   "outputs": [
    {
     "name": "stderr",
     "output_type": "stream",
     "text": [
      "Querying:                                                               0h00m00s\n"
     ]
    },
    {
     "name": "stdout",
     "output_type": "stream",
     "text": [
      "\n",
      "ℙ(not escrever | not receber) = 0.568182\n",
      "---\n"
     ]
    },
    {
     "data": {
      "text/plain": [
       "array([[0.56818182]])"
      ]
     },
     "execution_count": 13,
     "metadata": {},
     "output_type": "execute_result"
    }
   ],
   "source": [
    "%%pasp\n",
    "\n",
    "8/10::escrever. 9/10::nao_perder. 9/10::entregar.\n",
    "\n",
    "receber :- escrever, nao_perder, entregar.\n",
    "\n",
    "#semantics maxent.\n",
    "#query not escrever|not receber."
   ]
  },
  {
   "cell_type": "markdown",
   "metadata": {},
   "source": [
    "# Bibliografia <a name=\"ref\"></a>\n",
    "\n",
    "**de Oliveira Morgado, Augusto César.** \"Análise Combinatória e Probabilidade.\" _Sociedade Brasileira de Matemática, Rio de Janeiro (1991)._"
   ]
  }
 ],
 "metadata": {
  "kernelspec": {
   "display_name": "Python 3",
   "language": "python",
   "name": "python3"
  },
  "language_info": {
   "codemirror_mode": {
    "name": "ipython",
    "version": 3
   },
   "file_extension": ".py",
   "mimetype": "text/x-python",
   "name": "python",
   "nbconvert_exporter": "python",
   "pygments_lexer": "ipython3",
   "version": "3.10.12"
  }
 },
 "nbformat": 4,
 "nbformat_minor": 2
}
